{
  "nbformat": 4,
  "nbformat_minor": 0,
  "metadata": {
    "colab": {
      "provenance": [],
      "authorship_tag": "ABX9TyNg6Hx8oiMoiQFa5ytK+bV8",
      "include_colab_link": true
    },
    "kernelspec": {
      "name": "python3",
      "display_name": "Python 3"
    },
    "language_info": {
      "name": "python"
    },
    "accelerator": "GPU",
    "gpuClass": "standard"
  },
  "cells": [
    {
      "cell_type": "markdown",
      "metadata": {
        "id": "view-in-github",
        "colab_type": "text"
      },
      "source": [
        "<a href=\"https://colab.research.google.com/github/yash16jr/Deep_Learning/blob/main/fashion_mnist.ipynb\" target=\"_parent\"><img src=\"https://colab.research.google.com/assets/colab-badge.svg\" alt=\"Open In Colab\"/></a>"
      ]
    },
    {
      "cell_type": "code",
      "execution_count": 3,
      "metadata": {
        "id": "gJXpHXDEuTR_"
      },
      "outputs": [],
      "source": [
        "import numpy as np\n",
        "import pandas as pd\n",
        "import matplotlib.pyplot as plt\n",
        "import tensorflow as tf\n",
        "from tensorflow import keras"
      ]
    },
    {
      "cell_type": "code",
      "source": [
        "fashion_mnist = keras.datasets.fashion_mnist\n",
        "(X_train, y_train), (X_test,y_test) = fashion_mnist.load_data()"
      ],
      "metadata": {
        "colab": {
          "base_uri": "https://localhost:8080/"
        },
        "id": "SG5t1UTYusyd",
        "outputId": "b1f029ce-857e-4115-af93-616ca07ef233"
      },
      "execution_count": 4,
      "outputs": [
        {
          "output_type": "stream",
          "name": "stdout",
          "text": [
            "Downloading data from https://storage.googleapis.com/tensorflow/tf-keras-datasets/train-labels-idx1-ubyte.gz\n",
            "29515/29515 [==============================] - 0s 0us/step\n",
            "Downloading data from https://storage.googleapis.com/tensorflow/tf-keras-datasets/train-images-idx3-ubyte.gz\n",
            "26421880/26421880 [==============================] - 0s 0us/step\n",
            "Downloading data from https://storage.googleapis.com/tensorflow/tf-keras-datasets/t10k-labels-idx1-ubyte.gz\n",
            "5148/5148 [==============================] - 0s 0us/step\n",
            "Downloading data from https://storage.googleapis.com/tensorflow/tf-keras-datasets/t10k-images-idx3-ubyte.gz\n",
            "4422102/4422102 [==============================] - 0s 0us/step\n"
          ]
        }
      ]
    },
    {
      "cell_type": "code",
      "source": [
        "plt.imshow(X_train[1])"
      ],
      "metadata": {
        "colab": {
          "base_uri": "https://localhost:8080/",
          "height": 282
        },
        "id": "vHqt4Yfuviwl",
        "outputId": "fc22c35e-2fa0-4aeb-8d0e-49238b761529"
      },
      "execution_count": 5,
      "outputs": [
        {
          "output_type": "execute_result",
          "data": {
            "text/plain": [
              "<matplotlib.image.AxesImage at 0x7fbd3e6650a0>"
            ]
          },
          "metadata": {},
          "execution_count": 5
        },
        {
          "output_type": "display_data",
          "data": {
            "text/plain": [
              "<Figure size 432x288 with 1 Axes>"
            ],
            "image/png": "[encoded data removed]"
          },
          "metadata": {
            "needs_background": "light"
          }
        }
      ]
    },
    {
      "cell_type": "code",
      "source": [
        "## "
      ],
      "metadata": {
        "id": "uRrd3DEUwaEb"
      },
      "execution_count": null,
      "outputs": []
    },
    {
      "cell_type": "markdown",
      "source": [
        "**Preprocessing the data**"
      ],
      "metadata": {
        "id": "KC9sVksZwe3z"
      }
    },
    {
      "cell_type": "code",
      "source": [
        "X_train = X_train/255\n",
        "X_test = X_test/255"
      ],
      "metadata": {
        "id": "-oBZLVI3wIGK"
      },
      "execution_count": 8,
      "outputs": []
    },
    {
      "cell_type": "markdown",
      "source": [
        "**Reshaping**\n"
      ],
      "metadata": {
        "id": "yGGKRrPww4w1"
      }
    },
    {
      "cell_type": "code",
      "source": [
        "X_train= X_train.reshape((60000, 28, 28, 1))\n",
        "X_test = X_test.reshape((10000, 28,28,1))"
      ],
      "metadata": {
        "id": "ScZkb3PRwW60"
      },
      "execution_count": 10,
      "outputs": []
    },
    {
      "cell_type": "code",
      "source": [
        "np.random.seed(42)\n",
        "tf.random.set_seed(42)"
      ],
      "metadata": {
        "id": "8-fSbY2NxqMz"
      },
      "execution_count": 13,
      "outputs": []
    },
    {
      "cell_type": "code",
      "source": [
        "from tensorflow.keras.models import Sequential\n",
        "from tensorflow.keras.layers import Dense\n",
        "from tensorflow.keras.layers import Dropout"
      ],
      "metadata": {
        "id": "aEhqGiXbyc0I"
      },
      "execution_count": 14,
      "outputs": []
    },
    {
      "cell_type": "code",
      "source": [
        "model = Sequential()\n",
        "\n",
        "model.add(keras.layers.Conv2D(filters = 32, kernel_size = (3,3), strides = 1, padding = 'valid', activation=keras.layers.LeakyReLU(alpha=0.01), input_shape = (28,28,1)))\n",
        "model.add(keras.layers.MaxPooling2D((2,2)))\n",
        "\n",
        "model.add(keras.layers.Conv2D(64, (3, 3),strides = 1, padding = 'valid', activation=keras.layers.LeakyReLU(alpha=0.01)))\n",
        "model.add(keras.layers.MaxPooling2D((2,2)))\n",
        "\n",
        "model.add(keras.layers.Flatten())\n",
        "\n",
        "model.add(Dense(300,activation=keras.layers.LeakyReLU(alpha=0.01)))\n",
        "model.add(Dropout(0.3))\n",
        "\n",
        "model.add(Dense(300, activation=keras.layers.LeakyReLU(alpha=0.01)))\n",
        "model.add(Dropout(0.3))\n",
        "\n",
        "\n",
        "model.add(Dense(300, activation=keras.layers.LeakyReLU(alpha=0.01)))\n",
        "model.add(Dropout(0.2))\n",
        "\n",
        "model.add(Dense(10, activation= 'softmax'))\n",
        "\n"
      ],
      "metadata": {
        "id": "hTh1KHBlx6fY"
      },
      "execution_count": 42,
      "outputs": []
    },
    {
      "cell_type": "code",
      "source": [
        "model.compile(loss= 'sparse_categorical_crossentropy',\n",
        "              optimizer = 'adam',\n",
        "              metrics = ['accuracy'])"
      ],
      "metadata": {
        "id": "TZviSUW5zpg4"
      },
      "execution_count": 43,
      "outputs": []
    },
    {
      "cell_type": "code",
      "source": [
        "\n",
        "early_stopping = tf.keras.callbacks.EarlyStopping(\n",
        "    monitor=\"val_loss\",\n",
        "    min_delta=0.0001,\n",
        "    patience=15,\n",
        "    verbose=1,\n",
        "    mode=\"auto\",\n",
        "    baseline=None,\n",
        "    restore_best_weights=True,\n",
        "    start_from_epoch=0)"
      ],
      "metadata": {
        "id": "je9hxry50XqG"
      },
      "execution_count": 44,
      "outputs": []
    },
    {
      "cell_type": "code",
      "source": [
        "model_history = model.fit(X_train, y_train, epochs = 1000, batch_size = 32, validation_split = 0.33, callbacks = early_stopping)"
      ],
      "metadata": {
        "colab": {
          "base_uri": "https://localhost:8080/"
        },
        "id": "kf--5PEr0cwl",
        "outputId": "7449129f-3641-48dc-a316-758312b53393"
      },
      "execution_count": 45,
      "outputs": [
        {
          "output_type": "stream",
          "name": "stdout",
          "text": [
            "Epoch 1/1000\n",
            "1257/1257 [==============================] - 11s 6ms/step - loss: 2.3030 - accuracy: 0.1015 - val_loss: 2.3034 - val_accuracy: 0.0969\n",
            "Epoch 2/1000\n",
            "1257/1257 [==============================] - 9s 7ms/step - loss: 2.3031 - accuracy: 0.0973 - val_loss: 2.3028 - val_accuracy: 0.0992\n",
            "Epoch 3/1000\n",
            "1257/1257 [==============================] - 9s 7ms/step - loss: 2.3028 - accuracy: 0.0996 - val_loss: 2.3029 - val_accuracy: 0.0979\n",
            "Epoch 4/1000\n",
            "1257/1257 [==============================] - 8s 7ms/step - loss: 2.3028 - accuracy: 0.0987 - val_loss: 2.3029 - val_accuracy: 0.0979\n",
            "Epoch 5/1000\n",
            "1257/1257 [==============================] - 9s 7ms/step - loss: 2.3029 - accuracy: 0.1006 - val_loss: 2.3028 - val_accuracy: 0.0969\n",
            "Epoch 6/1000\n",
            "1257/1257 [==============================] - 8s 6ms/step - loss: 2.3032 - accuracy: 0.1002 - val_loss: 2.3028 - val_accuracy: 0.1012\n",
            "Epoch 7/1000\n",
            "1257/1257 [==============================] - 8s 7ms/step - loss: 2.3028 - accuracy: 0.0955 - val_loss: 2.3029 - val_accuracy: 0.0979\n",
            "Epoch 8/1000\n",
            "1257/1257 [==============================] - 9s 7ms/step - loss: 2.3028 - accuracy: 0.0997 - val_loss: 2.3029 - val_accuracy: 0.0969\n",
            "Epoch 9/1000\n",
            "1257/1257 [==============================] - 9s 7ms/step - loss: 2.3029 - accuracy: 0.0981 - val_loss: 2.3028 - val_accuracy: 0.0969\n",
            "Epoch 10/1000\n",
            "1257/1257 [==============================] - 9s 7ms/step - loss: 2.3028 - accuracy: 0.0989 - val_loss: 2.3028 - val_accuracy: 0.1012\n",
            "Epoch 11/1000\n",
            "1257/1257 [==============================] - 7s 6ms/step - loss: 2.3030 - accuracy: 0.1000 - val_loss: 2.3030 - val_accuracy: 0.0992\n",
            "Epoch 12/1000\n",
            "1257/1257 [==============================] - 8s 6ms/step - loss: 2.3028 - accuracy: 0.0990 - val_loss: 2.3030 - val_accuracy: 0.1007\n",
            "Epoch 13/1000\n",
            "1257/1257 [==============================] - 8s 7ms/step - loss: 2.3029 - accuracy: 0.0993 - val_loss: 2.3029 - val_accuracy: 0.0991\n",
            "Epoch 14/1000\n",
            "1257/1257 [==============================] - 9s 7ms/step - loss: 2.3028 - accuracy: 0.1016 - val_loss: 2.3029 - val_accuracy: 0.0969\n",
            "Epoch 15/1000\n",
            "1257/1257 [==============================] - 9s 7ms/step - loss: 1.8684 - accuracy: 0.2702 - val_loss: 0.7741 - val_accuracy: 0.6984\n",
            "Epoch 16/1000\n",
            "1257/1257 [==============================] - 8s 6ms/step - loss: 0.7566 - accuracy: 0.7145 - val_loss: 0.6481 - val_accuracy: 0.7502\n",
            "Epoch 17/1000\n",
            "1257/1257 [==============================] - 8s 7ms/step - loss: 0.6566 - accuracy: 0.7479 - val_loss: 0.5750 - val_accuracy: 0.7817\n",
            "Epoch 18/1000\n",
            "1257/1257 [==============================] - 9s 7ms/step - loss: 0.5938 - accuracy: 0.7730 - val_loss: 0.5169 - val_accuracy: 0.8026\n",
            "Epoch 19/1000\n",
            "1257/1257 [==============================] - 9s 7ms/step - loss: 0.5518 - accuracy: 0.7893 - val_loss: 0.5213 - val_accuracy: 0.8068\n",
            "Epoch 20/1000\n",
            "1257/1257 [==============================] - 8s 6ms/step - loss: 0.5172 - accuracy: 0.8038 - val_loss: 0.4620 - val_accuracy: 0.8235\n",
            "Epoch 21/1000\n",
            "1257/1257 [==============================] - 7s 6ms/step - loss: 0.4914 - accuracy: 0.8118 - val_loss: 0.4410 - val_accuracy: 0.8342\n",
            "Epoch 22/1000\n",
            "1257/1257 [==============================] - 8s 6ms/step - loss: 0.4686 - accuracy: 0.8238 - val_loss: 0.4328 - val_accuracy: 0.8340\n",
            "Epoch 23/1000\n",
            "1257/1257 [==============================] - 7s 6ms/step - loss: 0.4514 - accuracy: 0.8295 - val_loss: 0.4298 - val_accuracy: 0.8381\n",
            "Epoch 24/1000\n",
            "1257/1257 [==============================] - 8s 6ms/step - loss: 0.4354 - accuracy: 0.8365 - val_loss: 0.3991 - val_accuracy: 0.8502\n",
            "Epoch 25/1000\n",
            "1257/1257 [==============================] - 9s 7ms/step - loss: 0.4230 - accuracy: 0.8416 - val_loss: 0.4043 - val_accuracy: 0.8483\n",
            "Epoch 26/1000\n",
            "1257/1257 [==============================] - 8s 7ms/step - loss: 0.4098 - accuracy: 0.8456 - val_loss: 0.3845 - val_accuracy: 0.8557\n",
            "Epoch 27/1000\n",
            "1257/1257 [==============================] - 9s 7ms/step - loss: 0.3962 - accuracy: 0.8517 - val_loss: 0.3782 - val_accuracy: 0.8592\n",
            "Epoch 28/1000\n",
            "1257/1257 [==============================] - 9s 7ms/step - loss: 0.3856 - accuracy: 0.8558 - val_loss: 0.3667 - val_accuracy: 0.8612\n",
            "Epoch 29/1000\n",
            "1257/1257 [==============================] - 9s 7ms/step - loss: 0.3731 - accuracy: 0.8608 - val_loss: 0.3651 - val_accuracy: 0.8620\n",
            "Epoch 30/1000\n",
            "1257/1257 [==============================] - 7s 6ms/step - loss: 0.3672 - accuracy: 0.8623 - val_loss: 0.3561 - val_accuracy: 0.8672\n",
            "Epoch 31/1000\n",
            "1257/1257 [==============================] - 9s 7ms/step - loss: 0.3588 - accuracy: 0.8658 - val_loss: 0.3465 - val_accuracy: 0.8709\n",
            "Epoch 32/1000\n",
            "1257/1257 [==============================] - 8s 6ms/step - loss: 0.3499 - accuracy: 0.8688 - val_loss: 0.3686 - val_accuracy: 0.8614\n",
            "Epoch 33/1000\n",
            "1257/1257 [==============================] - 9s 7ms/step - loss: 0.3463 - accuracy: 0.8715 - val_loss: 0.3497 - val_accuracy: 0.8709\n",
            "Epoch 34/1000\n",
            "1257/1257 [==============================] - 9s 7ms/step - loss: 0.3358 - accuracy: 0.8736 - val_loss: 0.3375 - val_accuracy: 0.8768\n",
            "Epoch 35/1000\n",
            "1257/1257 [==============================] - 9s 7ms/step - loss: 0.3336 - accuracy: 0.8752 - val_loss: 0.3349 - val_accuracy: 0.8753\n",
            "Epoch 36/1000\n",
            "1257/1257 [==============================] - 7s 6ms/step - loss: 0.3268 - accuracy: 0.8784 - val_loss: 0.3404 - val_accuracy: 0.8737\n",
            "Epoch 37/1000\n",
            "1257/1257 [==============================] - 9s 7ms/step - loss: 0.3224 - accuracy: 0.8818 - val_loss: 0.3288 - val_accuracy: 0.8801\n",
            "Epoch 38/1000\n",
            "1257/1257 [==============================] - 9s 7ms/step - loss: 0.3174 - accuracy: 0.8811 - val_loss: 0.3405 - val_accuracy: 0.8751\n",
            "Epoch 39/1000\n",
            "1257/1257 [==============================] - 8s 6ms/step - loss: 0.3171 - accuracy: 0.8806 - val_loss: 0.3272 - val_accuracy: 0.8799\n",
            "Epoch 40/1000\n",
            "1257/1257 [==============================] - 7s 6ms/step - loss: 0.3062 - accuracy: 0.8836 - val_loss: 0.3334 - val_accuracy: 0.8779\n",
            "Epoch 41/1000\n",
            "1257/1257 [==============================] - 8s 6ms/step - loss: 0.3060 - accuracy: 0.8844 - val_loss: 0.3299 - val_accuracy: 0.8803\n",
            "Epoch 42/1000\n",
            "1257/1257 [==============================] - 8s 7ms/step - loss: 0.3022 - accuracy: 0.8875 - val_loss: 0.3459 - val_accuracy: 0.8743\n",
            "Epoch 43/1000\n",
            "1257/1257 [==============================] - 9s 7ms/step - loss: 0.2961 - accuracy: 0.8875 - val_loss: 0.3122 - val_accuracy: 0.8872\n",
            "Epoch 44/1000\n",
            "1257/1257 [==============================] - 9s 7ms/step - loss: 0.2929 - accuracy: 0.8878 - val_loss: 0.3199 - val_accuracy: 0.8850\n",
            "Epoch 45/1000\n",
            "1257/1257 [==============================] - 9s 7ms/step - loss: 0.2897 - accuracy: 0.8903 - val_loss: 0.3265 - val_accuracy: 0.8790\n",
            "Epoch 46/1000\n",
            "1257/1257 [==============================] - 9s 7ms/step - loss: 0.2850 - accuracy: 0.8927 - val_loss: 0.3173 - val_accuracy: 0.8847\n",
            "Epoch 47/1000\n",
            "1257/1257 [==============================] - 9s 7ms/step - loss: 0.2803 - accuracy: 0.8948 - val_loss: 0.3166 - val_accuracy: 0.8861\n",
            "Epoch 48/1000\n",
            "1257/1257 [==============================] - 8s 6ms/step - loss: 0.2798 - accuracy: 0.8960 - val_loss: 0.3211 - val_accuracy: 0.8858\n",
            "Epoch 49/1000\n",
            "1257/1257 [==============================] - 9s 7ms/step - loss: 0.2749 - accuracy: 0.8973 - val_loss: 0.3201 - val_accuracy: 0.8852\n",
            "Epoch 50/1000\n",
            "1257/1257 [==============================] - 8s 6ms/step - loss: 0.2750 - accuracy: 0.8976 - val_loss: 0.3189 - val_accuracy: 0.8822\n",
            "Epoch 51/1000\n",
            "1257/1257 [==============================] - 9s 7ms/step - loss: 0.2690 - accuracy: 0.9011 - val_loss: 0.3143 - val_accuracy: 0.8891\n",
            "Epoch 52/1000\n",
            "1257/1257 [==============================] - 9s 7ms/step - loss: 0.2675 - accuracy: 0.9000 - val_loss: 0.3114 - val_accuracy: 0.8873\n",
            "Epoch 53/1000\n",
            "1257/1257 [==============================] - 7s 6ms/step - loss: 0.2622 - accuracy: 0.9011 - val_loss: 0.3092 - val_accuracy: 0.8897\n",
            "Epoch 54/1000\n",
            "1257/1257 [==============================] - 9s 7ms/step - loss: 0.2608 - accuracy: 0.9024 - val_loss: 0.3155 - val_accuracy: 0.8876\n",
            "Epoch 55/1000\n",
            "1257/1257 [==============================] - 9s 8ms/step - loss: 0.2586 - accuracy: 0.9026 - val_loss: 0.3256 - val_accuracy: 0.8848\n",
            "Epoch 56/1000\n",
            "1257/1257 [==============================] - 7s 6ms/step - loss: 0.2552 - accuracy: 0.9042 - val_loss: 0.3033 - val_accuracy: 0.8917\n",
            "Epoch 57/1000\n",
            "1257/1257 [==============================] - 8s 6ms/step - loss: 0.2504 - accuracy: 0.9061 - val_loss: 0.3147 - val_accuracy: 0.8879\n",
            "Epoch 58/1000\n",
            "1257/1257 [==============================] - 9s 7ms/step - loss: 0.2483 - accuracy: 0.9057 - val_loss: 0.3233 - val_accuracy: 0.8862\n",
            "Epoch 59/1000\n",
            "1257/1257 [==============================] - 9s 7ms/step - loss: 0.2480 - accuracy: 0.9076 - val_loss: 0.3097 - val_accuracy: 0.8906\n",
            "Epoch 60/1000\n",
            "1257/1257 [==============================] - 9s 7ms/step - loss: 0.2478 - accuracy: 0.9072 - val_loss: 0.3094 - val_accuracy: 0.8911\n",
            "Epoch 61/1000\n",
            "1257/1257 [==============================] - 8s 6ms/step - loss: 0.2432 - accuracy: 0.9075 - val_loss: 0.3091 - val_accuracy: 0.8918\n",
            "Epoch 62/1000\n",
            "1257/1257 [==============================] - 8s 6ms/step - loss: 0.2382 - accuracy: 0.9097 - val_loss: 0.3142 - val_accuracy: 0.8916\n",
            "Epoch 63/1000\n",
            "1257/1257 [==============================] - 7s 6ms/step - loss: 0.2383 - accuracy: 0.9101 - val_loss: 0.3067 - val_accuracy: 0.8912\n",
            "Epoch 64/1000\n",
            "1257/1257 [==============================] - 8s 6ms/step - loss: 0.2371 - accuracy: 0.9098 - val_loss: 0.3135 - val_accuracy: 0.8918\n",
            "Epoch 65/1000\n",
            "1257/1257 [==============================] - 8s 6ms/step - loss: 0.2361 - accuracy: 0.9121 - val_loss: 0.3257 - val_accuracy: 0.8857\n",
            "Epoch 66/1000\n",
            "1257/1257 [==============================] - 8s 7ms/step - loss: 0.2336 - accuracy: 0.9113 - val_loss: 0.3291 - val_accuracy: 0.8865\n",
            "Epoch 67/1000\n",
            "1257/1257 [==============================] - 8s 6ms/step - loss: 0.2328 - accuracy: 0.9134 - val_loss: 0.3506 - val_accuracy: 0.8874\n",
            "Epoch 68/1000\n",
            "1257/1257 [==============================] - 7s 6ms/step - loss: 0.2266 - accuracy: 0.9136 - val_loss: 0.3128 - val_accuracy: 0.8917\n",
            "Epoch 69/1000\n",
            "1257/1257 [==============================] - 9s 7ms/step - loss: 0.2322 - accuracy: 0.9136 - val_loss: 0.3210 - val_accuracy: 0.8940\n",
            "Epoch 70/1000\n",
            "1257/1257 [==============================] - 9s 7ms/step - loss: 0.2245 - accuracy: 0.9168 - val_loss: 0.3141 - val_accuracy: 0.8922\n",
            "Epoch 71/1000\n",
            "1251/1257 [============================>.] - ETA: 0s - loss: 0.2236 - accuracy: 0.9154Restoring model weights from the end of the best epoch: 56.\n",
            "1257/1257 [==============================] - 8s 7ms/step - loss: 0.2234 - accuracy: 0.9154 - val_loss: 0.3185 - val_accuracy: 0.8932\n",
            "Epoch 71: early stopping\n"
          ]
        }
      ]
    },
    {
      "cell_type": "code",
      "source": [
        "ev = model.evaluate(X_test,y_test)\n",
        "ev\n"
      ],
      "metadata": {
        "colab": {
          "base_uri": "https://localhost:8080/"
        },
        "id": "05h6dRby4w00",
        "outputId": "140d2b3c-c1b6-4f5f-cbfa-4f3f14dcf9ee"
      },
      "execution_count": 50,
      "outputs": [
        {
          "output_type": "stream",
          "name": "stdout",
          "text": [
            "313/313 [==============================] - 1s 4ms/step - loss: 0.3260 - accuracy: 0.8894\n"
          ]
        },
        {
          "output_type": "execute_result",
          "data": {
            "text/plain": [
              "[0.3259982764720917, 0.8894000053405762]"
            ]
          },
          "metadata": {},
          "execution_count": 50
        }
      ]
    },
    {
      "cell_type": "code",
      "source": [
        "y_pred = model.predict(X_test)\n",
        "y_pred_labels = np.argmax(y_pred, axis=1)"
      ],
      "metadata": {
        "colab": {
          "base_uri": "https://localhost:8080/"
        },
        "id": "denQ8LVN46Nb",
        "outputId": "96d2f8d8-8b25-476d-8afd-7112255aaa68"
      },
      "execution_count": 51,
      "outputs": [
        {
          "output_type": "stream",
          "name": "stdout",
          "text": [
            "313/313 [==============================] - 1s 2ms/step\n"
          ]
        }
      ]
    },
    {
      "cell_type": "code",
      "source": [
        "accuracy = np.sum(y_pred_labels == y_test) / len(y_test) * 100"
      ],
      "metadata": {
        "id": "Twjw743M9ufq"
      },
      "execution_count": 52,
      "outputs": []
    },
    {
      "cell_type": "code",
      "source": [
        "accuracy"
      ],
      "metadata": {
        "colab": {
          "base_uri": "https://localhost:8080/"
        },
        "id": "IGbMlFAM9wfB",
        "outputId": "76287ee7-26fc-41eb-c0d3-558cda165546"
      },
      "execution_count": 53,
      "outputs": [
        {
          "output_type": "execute_result",
          "data": {
            "text/plain": [
              "88.94"
            ]
          },
          "metadata": {},
          "execution_count": 53
        }
      ]
    },
    {
      "cell_type": "code",
      "source": [],
      "metadata": {
        "id": "OlQFFRQ3Ak3y"
      },
      "execution_count": null,
      "outputs": []
    }
  ]
}