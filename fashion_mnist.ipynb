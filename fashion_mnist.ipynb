{
  "nbformat": 4,
  "nbformat_minor": 0,
  "metadata": {
    "colab": {
      "provenance": [],
      "authorship_tag": "ABX9TyPk+JAmoRTfBMu8r98+TTFo",
      "include_colab_link": true
    },
    "kernelspec": {
      "name": "python3",
      "display_name": "Python 3"
    },
    "language_info": {
      "name": "python"
    },
    "accelerator": "GPU",
    "gpuClass": "standard"
  },
  "cells": [
    {
      "cell_type": "markdown",
      "metadata": {
        "id": "view-in-github",
        "colab_type": "text"
      },
      "source": [
        "<a href=\"https://colab.research.google.com/github/yash16jr/Deep_Learning/blob/main/fashion_mnist.ipynb\" target=\"_parent\"><img src=\"https://colab.research.google.com/assets/colab-badge.svg\" alt=\"Open In Colab\"/></a>"
      ]
    },
    {
      "cell_type": "code",
      "execution_count": 1,
      "metadata": {
        "id": "gJXpHXDEuTR_"
      },
      "outputs": [],
      "source": [
        "import numpy as np\n",
        "import pandas as pd\n",
        "import matplotlib.pyplot as plt\n",
        "import tensorflow as tf\n",
        "from tensorflow import keras"
      ]
    },
    {
      "cell_type": "code",
      "source": [
        "fashion_mnist = keras.datasets.fashion_mnist\n",
        "(X_train, y_train), (X_test,y_test) = fashion_mnist.load_data()"
      ],
      "metadata": {
        "colab": {
          "base_uri": "https://localhost:8080/"
        },
        "id": "SG5t1UTYusyd",
        "outputId": "eca317bd-1adf-4469-be29-28efe83fd78d"
      },
      "execution_count": 2,
      "outputs": [
        {
          "output_type": "stream",
          "name": "stdout",
          "text": [
            "Downloading data from https://storage.googleapis.com/tensorflow/tf-keras-datasets/train-labels-idx1-ubyte.gz\n",
            "29515/29515 [==============================] - 0s 0us/step\n",
            "Downloading data from https://storage.googleapis.com/tensorflow/tf-keras-datasets/train-images-idx3-ubyte.gz\n",
            "26421880/26421880 [==============================] - 2s 0us/step\n",
            "Downloading data from https://storage.googleapis.com/tensorflow/tf-keras-datasets/t10k-labels-idx1-ubyte.gz\n",
            "5148/5148 [==============================] - 0s 0us/step\n",
            "Downloading data from https://storage.googleapis.com/tensorflow/tf-keras-datasets/t10k-images-idx3-ubyte.gz\n",
            "4422102/4422102 [==============================] - 0s 0us/step\n"
          ]
        }
      ]
    },
    {
      "cell_type": "code",
      "source": [
        "plt.imshow(X_train[1])"
      ],
      "metadata": {
        "colab": {
          "base_uri": "https://localhost:8080/",
          "height": 282
        },
        "id": "vHqt4Yfuviwl",
        "outputId": "ae9ad459-7832-4204-8a4b-90ee135d7e5d"
      },
      "execution_count": 3,
      "outputs": [
        {
          "output_type": "execute_result",
          "data": {
            "text/plain": [
              "<matplotlib.image.AxesImage at 0x7f244d5578b0>"
            ]
          },
          "metadata": {},
          "execution_count": 3
        },
        {
          "output_type": "display_data",
          "data": {
            "text/plain": [
              "<Figure size 432x288 with 1 Axes>"
            ],
            "image/png": "[encoded data removed]"
          },
          "metadata": {
            "needs_background": "light"
          }
        }
      ]
    },
    {
      "cell_type": "code",
      "source": [
        "## "
      ],
      "metadata": {
        "id": "uRrd3DEUwaEb"
      },
      "execution_count": 4,
      "outputs": []
    },
    {
      "cell_type": "markdown",
      "source": [
        "**Preprocessing the data**"
      ],
      "metadata": {
        "id": "KC9sVksZwe3z"
      }
    },
    {
      "cell_type": "code",
      "source": [
        "X_train = X_train/255\n",
        "X_test = X_test/255"
      ],
      "metadata": {
        "id": "-oBZLVI3wIGK"
      },
      "execution_count": 5,
      "outputs": []
    },
    {
      "cell_type": "markdown",
      "source": [
        "**Reshaping**\n"
      ],
      "metadata": {
        "id": "yGGKRrPww4w1"
      }
    },
    {
      "cell_type": "code",
      "source": [
        "X_train= X_train.reshape((60000, 28, 28, 1))\n",
        "X_test = X_test.reshape((10000, 28,28,1))"
      ],
      "metadata": {
        "id": "ScZkb3PRwW60"
      },
      "execution_count": 6,
      "outputs": []
    },
    {
      "cell_type": "code",
      "source": [
        "np.random.seed(42)\n",
        "tf.random.set_seed(42)"
      ],
      "metadata": {
        "id": "8-fSbY2NxqMz"
      },
      "execution_count": 7,
      "outputs": []
    },
    {
      "cell_type": "code",
      "source": [
        "from tensorflow.keras.models import Sequential\n",
        "from tensorflow.keras.layers import Dense\n",
        "from tensorflow.keras.layers import Dropout"
      ],
      "metadata": {
        "id": "aEhqGiXbyc0I"
      },
      "execution_count": 8,
      "outputs": []
    },
    {
      "cell_type": "code",
      "source": [
        "model = Sequential()\n",
        "\n",
        "model.add(keras.layers.Conv2D(filters = 32, kernel_size = (3,3), strides = 1, padding = 'same' , activation=keras.layers.LeakyReLU(alpha=0.01), input_shape = (28,28,1)))\n",
        "model.add(keras.layers.MaxPooling2D((2,2)))\n",
        "\n",
        "model.add(keras.layers.Conv2D(64, (3, 3),strides = 1, padding = 'same', activation=keras.layers.LeakyReLU(alpha=0.01)))\n",
        "model.add(keras.layers.MaxPooling2D((2,2)))\n",
        "\n",
        "model.add(keras.layers.Conv2D(128, (3, 3),strides = 1, padding = 'same', activation=keras.layers.LeakyReLU(alpha=0.01)))\n",
        "model.add(keras.layers.MaxPooling2D((2,2)))\n",
        "\n",
        "model.add(keras.layers.Conv2D(128, (3, 3),strides = 1, padding = 'same', activation=keras.layers.LeakyReLU(alpha=0.01)))\n",
        "model.add(keras.layers.MaxPooling2D((2,2)))\n",
        "\n",
        "model.add(keras.layers.Flatten())\n",
        "\n",
        "model.add(Dense(400,activation=keras.layers.LeakyReLU(alpha=0.01)))\n",
        "model.add(Dropout(0.5))\n",
        "\n",
        "model.add(Dense(400,activation=keras.layers.LeakyReLU(alpha=0.01)))\n",
        "model.add(Dropout(0.4))\n",
        "\n",
        "model.add(Dense(400, activation=keras.layers.LeakyReLU(alpha=0.01)))\n",
        "model.add(Dropout(0.3))\n",
        "\n",
        "\n",
        "model.add(Dense(400, activation=keras.layers.LeakyReLU(alpha=0.01)))\n",
        "model.add(Dropout(0.2))\n",
        "\n",
        "model.add(Dense(10, activation= 'softmax'))\n",
        "\n"
      ],
      "metadata": {
        "id": "hTh1KHBlx6fY"
      },
      "execution_count": 9,
      "outputs": []
    },
    {
      "cell_type": "code",
      "source": [
        "model.compile(loss= 'sparse_categorical_crossentropy',\n",
        "              optimizer = 'adam',\n",
        "              metrics = ['accuracy'])"
      ],
      "metadata": {
        "id": "TZviSUW5zpg4"
      },
      "execution_count": 10,
      "outputs": []
    },
    {
      "cell_type": "code",
      "source": [
        "\n",
        "early_stopping = tf.keras.callbacks.EarlyStopping(\n",
        "    monitor=\"val_loss\",\n",
        "    min_delta=0.0001,\n",
        "    patience=15,\n",
        "    verbose=1,\n",
        "    mode=\"auto\",\n",
        "    baseline=None,\n",
        "    restore_best_weights=True,\n",
        "    start_from_epoch=0)"
      ],
      "metadata": {
        "id": "je9hxry50XqG"
      },
      "execution_count": 11,
      "outputs": []
    },
    {
      "cell_type": "code",
      "source": [
        "model_history = model.fit(X_train, y_train, epochs = 1000, batch_size = 32, validation_split = 0.33, callbacks = early_stopping)"
      ],
      "metadata": {
        "colab": {
          "base_uri": "https://localhost:8080/"
        },
        "id": "kf--5PEr0cwl",
        "outputId": "52e23fe3-8b66-4017-8824-d21780e17dd2"
      },
      "execution_count": 12,
      "outputs": [
        {
          "output_type": "stream",
          "name": "stdout",
          "text": [
            "Epoch 1/1000\n",
            "1257/1257 [==============================] - 21s 8ms/step - loss: 0.6628 - accuracy: 0.7456 - val_loss: 0.3709 - val_accuracy: 0.8669\n",
            "Epoch 2/1000\n",
            "1257/1257 [==============================] - 11s 9ms/step - loss: 0.3646 - accuracy: 0.8719 - val_loss: 0.3270 - val_accuracy: 0.8829\n",
            "Epoch 3/1000\n",
            "1257/1257 [==============================] - 10s 8ms/step - loss: 0.3188 - accuracy: 0.8878 - val_loss: 0.2992 - val_accuracy: 0.8968\n",
            "Epoch 4/1000\n",
            "1257/1257 [==============================] - 11s 9ms/step - loss: 0.2830 - accuracy: 0.9007 - val_loss: 0.2916 - val_accuracy: 0.8974\n",
            "Epoch 5/1000\n",
            "1257/1257 [==============================] - 10s 8ms/step - loss: 0.2579 - accuracy: 0.9103 - val_loss: 0.3092 - val_accuracy: 0.9056\n",
            "Epoch 6/1000\n",
            "1257/1257 [==============================] - 10s 8ms/step - loss: 0.2490 - accuracy: 0.9151 - val_loss: 0.3143 - val_accuracy: 0.8870\n",
            "Epoch 7/1000\n",
            "1257/1257 [==============================] - 10s 8ms/step - loss: 0.2257 - accuracy: 0.9227 - val_loss: 0.2626 - val_accuracy: 0.9114\n",
            "Epoch 8/1000\n",
            "1257/1257 [==============================] - 10s 8ms/step - loss: 0.2170 - accuracy: 0.9250 - val_loss: 0.2921 - val_accuracy: 0.9046\n",
            "Epoch 9/1000\n",
            "1257/1257 [==============================] - 11s 9ms/step - loss: 0.2051 - accuracy: 0.9288 - val_loss: 0.2707 - val_accuracy: 0.9139\n",
            "Epoch 10/1000\n",
            "1257/1257 [==============================] - 10s 8ms/step - loss: 0.1921 - accuracy: 0.9339 - val_loss: 0.2975 - val_accuracy: 0.9085\n",
            "Epoch 11/1000\n",
            "1257/1257 [==============================] - 10s 8ms/step - loss: 0.1867 - accuracy: 0.9329 - val_loss: 0.2681 - val_accuracy: 0.9138\n",
            "Epoch 12/1000\n",
            "1257/1257 [==============================] - 11s 9ms/step - loss: 0.1826 - accuracy: 0.9369 - val_loss: 0.3083 - val_accuracy: 0.9046\n",
            "Epoch 13/1000\n",
            "1257/1257 [==============================] - 10s 8ms/step - loss: 0.1668 - accuracy: 0.9431 - val_loss: 0.3304 - val_accuracy: 0.9119\n",
            "Epoch 14/1000\n",
            "1257/1257 [==============================] - 11s 9ms/step - loss: 0.1547 - accuracy: 0.9458 - val_loss: 0.3064 - val_accuracy: 0.9103\n",
            "Epoch 15/1000\n",
            "1257/1257 [==============================] - 11s 9ms/step - loss: 0.1806 - accuracy: 0.9421 - val_loss: 0.3017 - val_accuracy: 0.9076\n",
            "Epoch 16/1000\n",
            "1257/1257 [==============================] - 10s 8ms/step - loss: 0.1451 - accuracy: 0.9504 - val_loss: 0.2926 - val_accuracy: 0.9130\n",
            "Epoch 17/1000\n",
            "1257/1257 [==============================] - 10s 8ms/step - loss: 0.1507 - accuracy: 0.9488 - val_loss: 0.3292 - val_accuracy: 0.9118\n",
            "Epoch 18/1000\n",
            "1257/1257 [==============================] - 9s 7ms/step - loss: 0.1448 - accuracy: 0.9507 - val_loss: 0.2986 - val_accuracy: 0.9119\n",
            "Epoch 19/1000\n",
            "1257/1257 [==============================] - 11s 8ms/step - loss: 0.1322 - accuracy: 0.9553 - val_loss: 0.3208 - val_accuracy: 0.9149\n",
            "Epoch 20/1000\n",
            "1257/1257 [==============================] - 11s 8ms/step - loss: 0.1359 - accuracy: 0.9558 - val_loss: 0.3271 - val_accuracy: 0.9156\n",
            "Epoch 21/1000\n",
            "1257/1257 [==============================] - 11s 9ms/step - loss: 0.1283 - accuracy: 0.9575 - val_loss: 0.3242 - val_accuracy: 0.9099\n",
            "Epoch 22/1000\n",
            "1255/1257 [============================>.] - ETA: 0s - loss: 0.1435 - accuracy: 0.9538Restoring model weights from the end of the best epoch: 7.\n",
            "1257/1257 [==============================] - 11s 9ms/step - loss: 0.1434 - accuracy: 0.9539 - val_loss: 0.3072 - val_accuracy: 0.9134\n",
            "Epoch 22: early stopping\n"
          ]
        }
      ]
    },
    {
      "cell_type": "code",
      "source": [
        "ev = model.evaluate(X_test,y_test)\n",
        "ev\n"
      ],
      "metadata": {
        "colab": {
          "base_uri": "https://localhost:8080/"
        },
        "id": "05h6dRby4w00",
        "outputId": "644157a7-cf88-42a7-8e10-9755b71c79f9"
      },
      "execution_count": 13,
      "outputs": [
        {
          "output_type": "stream",
          "name": "stdout",
          "text": [
            "313/313 [==============================] - 1s 3ms/step - loss: 0.2823 - accuracy: 0.9046\n"
          ]
        },
        {
          "output_type": "execute_result",
          "data": {
            "text/plain": [
              "[0.2823098301887512, 0.9046000242233276]"
            ]
          },
          "metadata": {},
          "execution_count": 13
        }
      ]
    },
    {
      "cell_type": "code",
      "source": [
        "y_pred = model.predict(X_test)\n",
        "y_pred_labels = np.argmax(y_pred, axis=1)"
      ],
      "metadata": {
        "colab": {
          "base_uri": "https://localhost:8080/"
        },
        "id": "denQ8LVN46Nb",
        "outputId": "257d9f70-9def-4bf3-8011-d20752b61abd"
      },
      "execution_count": 14,
      "outputs": [
        {
          "output_type": "stream",
          "name": "stdout",
          "text": [
            "313/313 [==============================] - 1s 2ms/step\n"
          ]
        }
      ]
    },
    {
      "cell_type": "code",
      "source": [
        "accuracy = np.sum(y_pred_labels == y_test) / len(y_test) * 100"
      ],
      "metadata": {
        "id": "Twjw743M9ufq"
      },
      "execution_count": 15,
      "outputs": []
    },
    {
      "cell_type": "code",
      "source": [
        "accuracy"
      ],
      "metadata": {
        "colab": {
          "base_uri": "https://localhost:8080/"
        },
        "id": "IGbMlFAM9wfB",
        "outputId": "193108b0-e551-4de1-dd97-916a749aad97"
      },
      "execution_count": 16,
      "outputs": [
        {
          "output_type": "execute_result",
          "data": {
            "text/plain": [
              "90.46"
            ]
          },
          "metadata": {},
          "execution_count": 16
        }
      ]
    },
    {
      "cell_type": "code",
      "source": [],
      "metadata": {
        "id": "OlQFFRQ3Ak3y"
      },
      "execution_count": null,
      "outputs": []
    }
  ]
}